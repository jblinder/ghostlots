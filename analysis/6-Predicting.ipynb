{
 "cells": [
  {
   "cell_type": "code",
   "execution_count": null,
   "metadata": {},
   "outputs": [],
   "source": [
    "import pandas as pd\n",
    "import numpy as np\n",
    "import matplotlib.pyplot as plt\n",
    "import dateutil.parser\n",
    "import seaborn as sns\n",
    "from IPython.display import Image"
   ]
  },
  {
   "cell_type": "code",
   "execution_count": null,
   "metadata": {},
   "outputs": [],
   "source": [
    "pd.set_option('display.max_columns', 100)\n",
    "pd.set_option('display.max_rows', 200)\n",
    "pd.set_option('display.precision', 3)"
   ]
  },
  {
   "cell_type": "code",
   "execution_count": null,
   "metadata": {},
   "outputs": [],
   "source": [
    "import pickle\n",
    "with open(r\"../data/pkl/logreg-alldata-final.pkl\", \"rb\") as input_file:\n",
    "    logreg = pickle.load(input_file)"
   ]
  },
  {
   "cell_type": "code",
   "execution_count": null,
   "metadata": {},
   "outputs": [],
   "source": [
    "# Prepare data\n",
    "\n",
    "# Load cleaned dataset\n",
    "df_pluto = pd.read_pickle('../data/pkl/df_pluto-cat-feat-2013-2017.pkl')\n",
    "\n",
    "# To filter\n",
    "drop_mask = ['BldgClass','FireComp','IrrLotCode','Sanborn','SplitZone','ZoneDist1','APPBBL','AreaSource','BBL','BoroCode','CondoNo','TaxMap','new_bldg_prob','ZoneCodeChanged','LandUse','LandUse2016','ZoneCodeBecameCondo','LandUse2016_11.0','LandUse2016_10.0','LandUse2016_9.0','LandUse2016_8.0','LandUse2016_7.0','LandUse2016_6.0','LandUse2016_5.0','LandUse2016_4.0','LandUse2016_3.0','LandUse2016_2.0','LandUse2016_1.0']]\n",
    "holdout_mask = ((df_pluto['LandUse']==11)&(df_pluto['PolicePrct_75.0'] == 1));\n",
    "\n",
    "# Create holdout set of current vacant lots that are in specific zip code\n",
    "df_pluto_holdout = df_pluto[holdout_mask]\n",
    "\n",
    "# Remove columns from train/test set\n",
    "df_pluto = df_pluto[df_pluto.columns.difference(drop_mask)]\n",
    "df_pluto = df_pluto.dropna()\n",
    "\n",
    "# Not great, but prevents overwriting land use with all properties when filtering based on orginal dataframe\n",
    "df_pluto_holdout = df_pluto_holdout[df_pluto_holdout.columns.difference(drop_mask)]\n",
    "df_pluto_holdout = df_pluto_holdout.dropna()\n",
    "\n",
    "# Subset later used for mapping\n",
    "df_pluto_holdout_ref = df_pluto_holdout\n",
    "\n",
    "# Drop analysis metric on main dataset\n",
    "df_pluto =df_pluto.drop(df_pluto[df_pluto['PolicePrct_75.0'] == 1].index)\n",
    "\n",
    "# Remove dependent variable from holdout set\n",
    "df_pluto_holdout = df_pluto_holdout[df_pluto_holdout.columns.difference(['ZoneCodeWasVacant'])]"
   ]
  },
  {
   "cell_type": "code",
   "execution_count": null,
   "metadata": {},
   "outputs": [],
   "source": [
    "from imblearn.over_sampling import SMOTE \n",
    "\n",
    "# Subset data\n",
    "df_pluto_subset = df_pluto\n",
    "\n",
    "# Prepare coefs\n",
    "y = df_pluto_subset['ZoneCodeWasVacant'].astype(int)\n",
    "X = df_pluto_subset[df_pluto_subset.columns.difference(['ZoneCodeWasVacant'])]\n",
    "\n",
    "# Create test train split\n",
    "xtrain, xtest, ytrain, ytest= train_test_split(X,y)\n",
    "\n",
    "# Smote train/ test data\n",
    "sm = SMOTE(random_state=42)\n",
    "xtrain, ytrain = sm.fit_sample(xtrain,ytrain)\n",
    "\n",
    "# Scale train/test/holdout values values\n",
    "scaler = StandardScaler().fit(xtrain)\n",
    "xtrain_s = scaler.transform(xtrain)\n",
    "xtest_s = pd.DataFrame(scaler.transform(xtest))\n",
    "df_pluto_holdout = pd.DataFrame(scaler.transform(df_pluto_holdout))"
   ]
  },
  {
   "cell_type": "code",
   "execution_count": null,
   "metadata": {},
   "outputs": [],
   "source": [
    "# Predict holdout data\n",
    "y_pred = logreg.predict_proba(df_pluto_holdout)\n",
    "\n",
    "# Save predictions on holdout dataframe\n",
    "df_pluto_holdout_ref = df_pluto_holdout_ref.reset_index()\n",
    "df_pluto_holdout_ref = pd.merge(df_pluto_holdout_ref,pd.DataFrame(y_pred),how='outer', left_index=True, right_index=True)\n",
    "df_pluto_holdout_ref['VacantChanges'] = df_pluto_holdout_ref['1_x']\n",
    "df_pluto_holdout_ref['VacantRemains'] = df_pluto_holdout_ref['0_x']\n",
    "\n",
    "df_pluto_holdout_ref"
   ]
  },
  {
   "cell_type": "code",
   "execution_count": null,
   "metadata": {},
   "outputs": [],
   "source": [
    "pickle.dump(df_pluto_holdout_ref, open('../data/pkl/holdout_Precinct_75.pkl', 'wb'))"
   ]
  }
 ],
 "metadata": {
  "kernelspec": {
   "display_name": "Python 3",
   "language": "python",
   "name": "python3"
  },
  "language_info": {
   "codemirror_mode": {
    "name": "ipython",
    "version": 3
   },
   "file_extension": ".py",
   "mimetype": "text/x-python",
   "name": "python",
   "nbconvert_exporter": "python",
   "pygments_lexer": "ipython3",
   "version": "3.6.4"
  }
 },
 "nbformat": 4,
 "nbformat_minor": 2
}
