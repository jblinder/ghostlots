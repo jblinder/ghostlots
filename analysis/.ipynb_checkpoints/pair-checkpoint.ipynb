{
 "cells": [
  {
   "cell_type": "code",
   "execution_count": 38,
   "metadata": {},
   "outputs": [],
   "source": [
    "from sklearn import cross_validation\n",
    "import pandas as pd\n",
    "from sklearn import utils\n",
    "import matplotlib.pyplot \n",
    "import numpy as np\n",
    "%matplotlib inline"
   ]
  },
  {
   "cell_type": "code",
   "execution_count": 11,
   "metadata": {},
   "outputs": [],
   "source": [
    "df = pd.read_csv('https://raw.githubusercontent.com/thisismetis/nyc18_ds15/master/class-lectures/week05-mcnulty2/02-D3/pair_boot.csv?token=AADDm1qwB6xXZWI45TOoRT79-ehkgFhwks5a-t6ZwA%3D%3D')"
   ]
  },
  {
   "cell_type": "code",
   "execution_count": 12,
   "metadata": {},
   "outputs": [],
   "source": [
    "x = df.iloc[:,:-2]\n",
    "y = df.iloc[:,-1:]"
   ]
  },
  {
   "cell_type": "code",
   "execution_count": null,
   "metadata": {},
   "outputs": [],
   "source": []
  },
  {
   "cell_type": "code",
   "execution_count": 53,
   "metadata": {},
   "outputs": [
    {
     "name": "stdout",
     "output_type": "stream",
     "text": [
      "(array([-1.8033951]), array([2.11653287]))\n"
     ]
    },
    {
     "data": {
      "text/plain": [
       "array([[<matplotlib.axes._subplots.AxesSubplot object at 0x1a2484a5f8>]],\n",
       "      dtype=object)"
      ]
     },
     "execution_count": 53,
     "metadata": {},
     "output_type": "execute_result"
    },
    {
     "data": {
      "image/png": "[encoded data removed]",
      "text/plain": [
       "<matplotlib.figure.Figure at 0x1a22020e48>"
      ]
     },
     "metadata": {},
     "output_type": "display_data"
    }
   ],
   "source": [
    "#cross_validation.Bootstrap(9)\n",
    "import scipy.stats as st\n",
    "\n",
    "samples = np.arange(0,5)\n",
    "samples_list = []\n",
    "for s in samples:\n",
    "    y_new = utils.resample(y,n_samples=s)\n",
    "    samples_list.append(y_new.mean())\n",
    "\n",
    "cinterval = st.norm.interval(.95,loc=np.mean(pd.DataFrame(samples_list)))\n",
    "pd.DataFrame(samples_list).hist()\n"
   ]
  },
  {
   "cell_type": "code",
   "execution_count": 91,
   "metadata": {},
   "outputs": [
    {
     "data": {
      "text/html": [
       "<div>\n",
       "<style scoped>\n",
       "    .dataframe tbody tr th:only-of-type {\n",
       "        vertical-align: middle;\n",
       "    }\n",
       "\n",
       "    .dataframe tbody tr th {\n",
       "        vertical-align: top;\n",
       "    }\n",
       "\n",
       "    .dataframe thead th {\n",
       "        text-align: right;\n",
       "    }\n",
       "</style>\n",
       "<table border=\"1\" class=\"dataframe\">\n",
       "  <thead>\n",
       "    <tr style=\"text-align: right;\">\n",
       "      <th></th>\n",
       "      <th>x1</th>\n",
       "      <th>x2</th>\n",
       "      <th>x3</th>\n",
       "      <th>x4</th>\n",
       "      <th>x5</th>\n",
       "    </tr>\n",
       "  </thead>\n",
       "  <tbody>\n",
       "    <tr>\n",
       "      <th>0</th>\n",
       "      <td>-3.371292</td>\n",
       "      <td>-2.202604</td>\n",
       "      <td>-1.408254</td>\n",
       "      <td>-1.527516</td>\n",
       "      <td>-1.706946</td>\n",
       "    </tr>\n",
       "    <tr>\n",
       "      <th>1</th>\n",
       "      <td>0.548636</td>\n",
       "      <td>1.717324</td>\n",
       "      <td>2.511674</td>\n",
       "      <td>2.392412</td>\n",
       "      <td>2.212982</td>\n",
       "    </tr>\n",
       "  </tbody>\n",
       "</table>\n",
       "</div>"
      ],
      "text/plain": [
       "         x1        x2        x3        x4        x5\n",
       "0 -3.371292 -2.202604 -1.408254 -1.527516 -1.706946\n",
       "1  0.548636  1.717324  2.511674  2.392412  2.212982"
      ]
     },
     "execution_count": 91,
     "metadata": {},
     "output_type": "execute_result"
    }
   ],
   "source": [
    "from sklearn.linear_model import LinearRegression\n",
    "\n",
    "lr = LinearRegression()\n",
    "\n",
    "\n",
    "amnt = np.arange(0,1000)\n",
    "coefy = []\n",
    "for i in amnt:\n",
    "    lr.fit(x,y)\n",
    "    lr.score(x,y)\n",
    "    coefy.append(lr.coef_[0])\n",
    "\n",
    "c = pd.DataFrame(coefy)\n",
    "confy = st.norm.interval(.95,loc=np.mean(c))\n",
    "lower = confy[0]\n",
    "upper = confy[1]\n",
    "variable = pd.DataFrame([lower,upper])\n",
    "\n",
    "variable.columns = ['x1','x2','x3','x4','x5']\n",
    "variable"
   ]
  },
  {
   "cell_type": "code",
   "execution_count": null,
   "metadata": {},
   "outputs": [],
   "source": []
  }
 ],
 "metadata": {
  "kernelspec": {
   "display_name": "Python 3",
   "language": "python",
   "name": "python3"
  },
  "language_info": {
   "codemirror_mode": {
    "name": "ipython",
    "version": 3
   },
   "file_extension": ".py",
   "mimetype": "text/x-python",
   "name": "python",
   "nbconvert_exporter": "python",
   "pygments_lexer": "ipython3",
   "version": "3.6.4"
  }
 },
 "nbformat": 4,
 "nbformat_minor": 2
}
